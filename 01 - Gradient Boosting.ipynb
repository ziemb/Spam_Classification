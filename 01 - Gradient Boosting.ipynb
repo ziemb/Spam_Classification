{
 "cells": [
  {
   "cell_type": "code",
   "execution_count": 1,
   "metadata": {
    "collapsed": false
   },
   "outputs": [],
   "source": [
    "import pandas as pd\n",
    "import numpy as np\n",
    "\n",
    "from sklearn.model_selection import train_test_split\n",
    "from sklearn.feature_extraction.text import TfidfVectorizer\n",
    "\n",
    "from sklearn.linear_model import LogisticRegression\n",
    "from sklearn.ensemble import GradientBoostingClassifier\n",
    "\n",
    "from sklearn.metrics import classification_report, precision_recall_fscore_support\n",
    "from sklearn.metrics import confusion_matrix\n",
    "\n",
    "import matplotlib.pyplot as plt\n",
    "%matplotlib inline\n",
    "\n",
    "df = pd.read_table('SMSSpamCollection', header=None, quoting=3, names=['class', 'message'])"
   ]
  },
  {
   "cell_type": "code",
   "execution_count": 2,
   "metadata": {
    "collapsed": false
   },
   "outputs": [
    {
     "name": "stdout",
     "output_type": "stream",
     "text": [
      "5574\n",
      "(5574, 2)\n",
      "  class                                            message\n",
      "0   ham  Go until jurong point, crazy.. Available only ...\n",
      "1   ham                      Ok lar... Joking wif u oni...\n",
      "2  spam  Free entry in 2 a wkly comp to win FA Cup fina...\n",
      "3   ham  U dun say so early hor... U c already then say...\n",
      "4   ham  Nah I don't think he goes to usf, he lives aro...\n"
     ]
    }
   ],
   "source": [
    "print len(df)\n",
    "print df.shape\n",
    "print df.head()"
   ]
  },
  {
   "cell_type": "code",
   "execution_count": 3,
   "metadata": {
    "collapsed": false
   },
   "outputs": [],
   "source": [
    "df_train, df_test, y_train, y_test = train_test_split(df['message'], df['class'], test_size=0.33, random_state=42)"
   ]
  },
  {
   "cell_type": "code",
   "execution_count": 5,
   "metadata": {
    "collapsed": false
   },
   "outputs": [],
   "source": [
    "# Vectorizing\n",
    "\n",
    "vectorizer = TfidfVectorizer(use_idf=True)\n",
    "\n",
    "X_train = vectorizer.fit_transform(df_train)\n",
    "X_test = vectorizer.transform(df_test)"
   ]
  },
  {
   "cell_type": "code",
   "execution_count": 5,
   "metadata": {
    "collapsed": false
   },
   "outputs": [
    {
     "name": "stdout",
     "output_type": "stream",
     "text": [
      "             precision    recall  f1-score   support\n",
      "\n",
      "        ham       0.98      1.00      0.99      1585\n",
      "       spam       0.99      0.89      0.94       255\n",
      "\n",
      "avg / total       0.98      0.98      0.98      1840\n",
      "\n",
      "[[1582    3]\n",
      " [  27  228]]\n"
     ]
    }
   ],
   "source": [
    "# We will use Gradient Boosting Classifier which should give as better results than logistic Regression in our case\n",
    "\n",
    "clf = GradientBoostingClassifier(n_estimators=1000, learning_rate=0.05, max_depth=8, random_state=0, min_samples_leaf=0.001)\n",
    "clf.fit(X_train, y_train)\n",
    "\n",
    "y_pred = clf.predict(X_test.toarray())\n",
    "\n",
    "print classification_report(y_test, y_pred)\n",
    "print confusion_matrix(y_test, y_pred)"
   ]
  },
  {
   "cell_type": "code",
   "execution_count": 6,
   "metadata": {
    "collapsed": false
   },
   "outputs": [
    {
     "name": "stdout",
     "output_type": "stream",
     "text": [
      "5030    I'd like to tell you my deepest darkest fantas...\n",
      "1745    Someone has conacted our dating service and en...\n",
      "3742                                        2/2 146tf150p\n",
      "2915    Sorry! U can not unsubscribe yet. THE MOB offe...\n",
      "2663    Hello darling how are you today? I would love ...\n",
      "3848    Fantasy Football is back on your TV. Go to Sky...\n",
      "4821    Check Out Choose Your Babe Videos @ sms.shsex....\n",
      "751     Do you realize that in about 40 years, we'll h...\n",
      "2770    Burger King - Wanna play footy at a top stadiu...\n",
      "881     Reminder: You have not downloaded the content ...\n",
      "3864    Oh my god! I've found your number again! I'm s...\n",
      "4047        Win a £1000 cash prize or a prize worth £5000\n",
      "1777                    Call FREEPHONE 0800 542 0578 now!\n",
      "4506    Mobile Club: Choose any of the top quality ite...\n",
      "3064    Hi babe its Jordan, how r u? Im home from abro...\n",
      "1699    Free msg. Sorry, a service you ordered from 81...\n",
      "731     Email AlertFrom: Jeri StewartSize: 2KBSubject:...\n",
      "3360    Sorry I missed your call let's talk when you h...\n",
      "5122         PRIVATE! Your 2003 Account Statement for 078\n",
      "68      Did you hear about the new \"Divorce Barbie\"? I...\n",
      "4574    \"URGENT! This is the 2nd attempt to contact U!...\n",
      "2680    New Tones This week include: 1)McFly-All Ab..,...\n",
      "2145    FreeMsg: Hey - I'm Buffy. 25 and love to satis...\n",
      "752     You have an important customer service announc...\n",
      "2364    Fantasy Football is back on your TV. Go to Sky...\n",
      "5379    The current leading bid is 151. To pause this ...\n",
      "869     Hello. We need some posh birds and chaps to us...\n",
      "Name: message, dtype: object\n",
      "255\n"
     ]
    }
   ],
   "source": [
    "# The model is better than standard Logistic Regression and better than our customized Logistic Regression. \n",
    "# Spam precision is really good (only 3 ham messages classified as spam) and Spam recall is better as well.\n",
    "# Still some Spam messages were classified as Ham. We can print them so we can see what kind of messages we should \n",
    "# focus on in the next iteration of the algorithm enhancement.\n",
    "\n",
    "print df_test[(y_test == 'spam') & (y_pred == 'ham')]\n",
    "print len(df_test[(y_test == 'spam')])"
   ]
  },
  {
   "cell_type": "code",
   "execution_count": 15,
   "metadata": {
    "collapsed": false
   },
   "outputs": [
    {
     "data": {
      "text/plain": [
       "<matplotlib.legend.Legend at 0x1412b908>"
      ]
     },
     "execution_count": 15,
     "metadata": {},
     "output_type": "execute_result"
    },
    {
     "data": {
      "image/png": "[encoded data removed]",
      "text/plain": [
       "<matplotlib.figure.Figure at 0x140030f0>"
      ]
     },
     "metadata": {},
     "output_type": "display_data"
    }
   ],
   "source": [
    "# Cumultative Lift Charts\n",
    "\n",
    "# scoring training and test sets\n",
    "y_tr_pred = clf.predict_proba(X_train.toarray())[:,1]\n",
    "y_ts_pred = clf.predict_proba(X_test.toarray())[:,1]\n",
    "\n",
    "# sorting them\n",
    "tr = sorted(zip(y_tr_pred, y_train == 'spam'), key=lambda x: x[0], reverse=True)\n",
    "ts = sorted(zip(y_ts_pred, y_test == 'spam'), key=lambda x: x[0], reverse=True)\n",
    "\n",
    "# average score in each bin\n",
    "cumulated = {0: [], 1: []}\n",
    "for i, s in enumerate([tr, ts]):\n",
    "    scores = []\n",
    "    for group in np.array_split(s, 20):\n",
    "        scores += [x[1] for x in group]\n",
    "        cumulated[i].append(np.mean(scores) * 100)\n",
    "\n",
    "# plotting\n",
    "bins = [x / 100. for x in reversed(range(0 , 100, 5))]\n",
    "\n",
    "plt.rcParams[\"figure.figsize\"] = [10,6]\n",
    "\n",
    "plt.plot(bins, cumulated[0], lw=2, alpha=0.9, label=\"Training set lift curve\")\n",
    "plt.plot(bins, cumulated[1], lw=2, alpha=0.9, label=\"Test set lift curve\")\n",
    "\n",
    "plt.legend(loc='lower right')\n",
    "\n",
    "# Cumultative Lift Charts for training and test sets are smooth and close to each other. Thus, the model\n",
    "# is less likely to be overtrained or overfitted."
   ]
  },
  {
   "cell_type": "code",
   "execution_count": 17,
   "metadata": {
    "collapsed": false
   },
   "outputs": [
    {
     "name": "stdout",
     "output_type": "stream",
     "text": [
      "             precision    recall  f1-score   support\n",
      "\n",
      "        ham       0.98      1.00      0.99      1585\n",
      "       spam       0.99      0.90      0.94       255\n",
      "\n",
      "avg / total       0.99      0.99      0.99      1840\n",
      "\n",
      "[[1583    2]\n",
      " [  25  230]]\n"
     ]
    }
   ],
   "source": [
    "# We can try to create an ensemble model using also Logistic Regression and see if it can improve our classificator\n",
    "\n",
    "clf2 = LogisticRegression(class_weight='balanced')\n",
    "clf2.fit(X_train, y_train)\n",
    "\n",
    "def ensemble_predict(X_test, w1, w2, t=0.5):   \n",
    "    prs = zip(clf.predict_proba(X_test.toarray()), clf2.predict_proba(X_test))\n",
    "    indices = [1 if w1*p1[1] + w2*p2[1] > t else 0 for p1, p2 in prs]\n",
    "    \n",
    "    return clf.classes_[indices]\n",
    "\n",
    "y_pred = ensemble_predict(X_test, 0.6, 0.4)\n",
    "\n",
    "print classification_report(y_test, y_pred)\n",
    "print confusion_matrix(y_test, y_pred)"
   ]
  },
  {
   "cell_type": "code",
   "execution_count": null,
   "metadata": {
    "collapsed": true
   },
   "outputs": [],
   "source": [
    "# Obtained model is indeed the best that we have acquired so far with better precision, recall and weighted f1-score of 0.99"
   ]
  }
 ],
 "metadata": {
  "anaconda-cloud": {},
  "kernelspec": {
   "display_name": "Python [Root]",
   "language": "python",
   "name": "Python [Root]"
  },
  "language_info": {
   "codemirror_mode": {
    "name": "ipython",
    "version": 2
   },
   "file_extension": ".py",
   "mimetype": "text/x-python",
   "name": "python",
   "nbconvert_exporter": "python",
   "pygments_lexer": "ipython2",
   "version": "2.7.12"
  }
 },
 "nbformat": 4,
 "nbformat_minor": 0
}
