{
 "cells": [
  {
   "cell_type": "code",
   "execution_count": 1,
   "metadata": {
    "collapsed": false
   },
   "outputs": [],
   "source": [
    "import pandas as pd\n",
    "import numpy as np\n",
    "\n",
    "from sklearn.model_selection import train_test_split\n",
    "\n",
    "from sklearn.ensemble import GradientBoostingClassifier\n",
    "from sklearn.feature_extraction.text import TfidfVectorizer\n",
    "\n",
    "from sklearn.metrics import classification_report, precision_recall_fscore_support\n",
    "from sklearn.metrics import confusion_matrix\n",
    "\n",
    "from collections import defaultdict\n",
    "\n",
    "import matplotlib.pyplot as plt\n",
    "%matplotlib inline\n",
    "\n",
    "df = pd.read_table('SMSSpamCollection', header=None, quoting=3, names=['class', 'message'])"
   ]
  },
  {
   "cell_type": "code",
   "execution_count": 2,
   "metadata": {
    "collapsed": false
   },
   "outputs": [
    {
     "name": "stdout",
     "output_type": "stream",
     "text": [
      "5574\n",
      "(5574, 2)\n",
      "  class                                            message\n",
      "0   ham  Go until jurong point, crazy.. Available only ...\n",
      "1   ham                      Ok lar... Joking wif u oni...\n",
      "2  spam  Free entry in 2 a wkly comp to win FA Cup fina...\n",
      "3   ham  U dun say so early hor... U c already then say...\n",
      "4   ham  Nah I don't think he goes to usf, he lives aro...\n"
     ]
    }
   ],
   "source": [
    "print len(df)\n",
    "print df.shape\n",
    "print df.head()"
   ]
  },
  {
   "cell_type": "code",
   "execution_count": 3,
   "metadata": {
    "collapsed": false
   },
   "outputs": [],
   "source": [
    "df_train, df_test, y_train, y_test = train_test_split(df['message'], df['class'], test_size=0.33, random_state=42)"
   ]
  },
  {
   "cell_type": "code",
   "execution_count": 4,
   "metadata": {
    "collapsed": false
   },
   "outputs": [],
   "source": [
    "# We will use pre-trained vectors from Glove project for vectorizing messages. That's how we will be able to classify effectively even messages with words that were not in the training set. Glove will provide the semantic connotations between the words in our traing set and words from future data.\n",
    "\n",
    "# Glove pre-trained vectors needed. Download from https://nlp.stanford.edu/projects/glove/\n",
    "\n",
    "# Constructing word to vector dictionary\n",
    "with open(\"glove.840B.300d.txt\", \"rb\") as lines:\n",
    "    w2v = {line.split()[0]: np.array(map(float, line.split()[1:])) for line in lines}\n",
    "\n",
    "# We need to create our own implementation of TF-IDF Vectorizer using Glove w2v    \n",
    "class TfidfEmbeddingVectorizer(object):\n",
    "    def __init__(self, word2vec):\n",
    "        self.word2vec = word2vec\n",
    "        self.word2weight = None\n",
    "        self.dim = len(word2vec.itervalues().next())\n",
    "\n",
    "    def fit(self, X):\n",
    "        tfidf = TfidfVectorizer()\n",
    "        tfidf.fit(X)\n",
    "\n",
    "        max_idf = max(tfidf.idf_)\n",
    "        self.word2weight = defaultdict(\n",
    "            lambda: max_idf,\n",
    "            [(w, tfidf.idf_[i]) for w, i in tfidf.vocabulary_.items()])\n",
    "\n",
    "        return self\n",
    "\n",
    "    def transform(self, X):\n",
    "        return np.array([\n",
    "                np.mean([self.word2vec[w] * self.word2weight[w] for w in words if w in self.word2vec] or\n",
    "                        [np.zeros(self.dim)], axis=0)\n",
    "                for words in X])\n",
    "\n",
    "# vectorizing the data    \n",
    "vectorizer = TfidfEmbeddingVectorizer(w2v)\n",
    "\n",
    "vectorizer.fit(df_train)\n",
    "X_train = vectorizer.transform(df_train)\n",
    "X_test = vectorizer.transform(df_test)"
   ]
  },
  {
   "cell_type": "code",
   "execution_count": 7,
   "metadata": {
    "collapsed": false
   },
   "outputs": [
    {
     "name": "stdout",
     "output_type": "stream",
     "text": [
      "             precision    recall  f1-score   support\n",
      "\n",
      "        ham       0.98      1.00      0.99      1585\n",
      "       spam       0.98      0.87      0.92       255\n",
      "\n",
      "avg / total       0.98      0.98      0.98      1840\n",
      "\n",
      "[[1580    5]\n",
      " [  33  222]]\n"
     ]
    }
   ],
   "source": [
    "# We will use Gradient Boosting Classifier which yielded the best results in previous iteration\n",
    "\n",
    "clf = GradientBoostingClassifier(n_estimators=1000, learning_rate=0.02, max_depth=8, random_state=0, min_samples_leaf=0.001)\n",
    "clf.fit(X_train, y_train)\n",
    "\n",
    "y_pred = clf.predict(X_test)\n",
    "\n",
    "print classification_report(y_test, y_pred)\n",
    "print confusion_matrix(y_test, y_pred)"
   ]
  },
  {
   "cell_type": "code",
   "execution_count": 8,
   "metadata": {
    "collapsed": false
   },
   "outputs": [],
   "source": [
    "# The model is a little bit worse than the best one that we aquired. However, it is still very solid model - comparable with customized Logistic Regression model from 00 iteration.\n",
    "\n",
    "# The big advantage of this model is though, that it can classify messages even with words that were not present in the training set (because it uses pre-trained word vectors). Considering the fact that the training set was rather small, this is a very useful finding."
   ]
  },
  {
   "cell_type": "code",
   "execution_count": 10,
   "metadata": {
    "collapsed": false
   },
   "outputs": [
    {
     "data": {
      "text/plain": [
       "<matplotlib.legend.Legend at 0x18f2bba58>"
      ]
     },
     "execution_count": 10,
     "metadata": {},
     "output_type": "execute_result"
    },
    {
     "data": {
      "image/png": "[encoded data removed]",
      "text/plain": [
       "<matplotlib.figure.Figure at 0x3d29f28>"
      ]
     },
     "metadata": {},
     "output_type": "display_data"
    }
   ],
   "source": [
    "# Cumultative Lift Charts\n",
    "\n",
    "# scoring training and test sets\n",
    "y_tr_pred = clf.predict_proba(X_train)[:,1]\n",
    "y_ts_pred = clf.predict_proba(X_test)[:,1]\n",
    "\n",
    "# sorting them\n",
    "tr = sorted(zip(y_tr_pred, y_train == 'spam'), key=lambda x: x[0], reverse=True)\n",
    "ts = sorted(zip(y_ts_pred, y_test == 'spam'), key=lambda x: x[0], reverse=True)\n",
    "\n",
    "# average score in each bin\n",
    "cumulated = {0: [], 1: []}\n",
    "for i, s in enumerate([tr, ts]):\n",
    "    scores = []\n",
    "    for group in np.array_split(s, 20):\n",
    "        scores += [x[1] for x in group]\n",
    "        cumulated[i].append(np.mean(scores) * 100)\n",
    "\n",
    "# plotting\n",
    "bins = [x / 100. for x in reversed(range(0 , 100, 5))]\n",
    "\n",
    "plt.rcParams[\"figure.figsize\"] = [10,6]\n",
    "\n",
    "plt.plot(bins, cumulated[0], lw=2, alpha=0.9, label=\"Training set lift curve\")\n",
    "plt.plot(bins, cumulated[1], lw=2, alpha=0.9, label=\"Test set lift curve\")\n",
    "\n",
    "plt.legend(loc='lower right')\n",
    "\n",
    "# Cumultative Lift Charts for training and test sets are smooth and close to each other. Thus, the model is less likely to be overtrained or overfitted."
   ]
  },
  {
   "cell_type": "code",
   "execution_count": null,
   "metadata": {
    "collapsed": true
   },
   "outputs": [],
   "source": []
  }
 ],
 "metadata": {
  "anaconda-cloud": {},
  "kernelspec": {
   "display_name": "Python [Root]",
   "language": "python",
   "name": "Python [Root]"
  },
  "language_info": {
   "codemirror_mode": {
    "name": "ipython",
    "version": 2
   },
   "file_extension": ".py",
   "mimetype": "text/x-python",
   "name": "python",
   "nbconvert_exporter": "python",
   "pygments_lexer": "ipython2",
   "version": "2.7.12"
  }
 },
 "nbformat": 4,
 "nbformat_minor": 0
}
